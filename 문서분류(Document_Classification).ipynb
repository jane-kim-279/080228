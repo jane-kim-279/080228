{
  "nbformat": 4,
  "nbformat_minor": 0,
  "metadata": {
    "colab": {
      "name": "문서분류(Document Classification).ipynb",
      "provenance": [],
      "authorship_tag": "ABX9TyMf4hpSd2wpJMXXYG1052TO",
      "include_colab_link": true
    },
    "kernelspec": {
      "name": "python3",
      "display_name": "Python 3"
    },
    "language_info": {
      "name": "python"
    }
  },
  "cells": [
    {
      "cell_type": "markdown",
      "metadata": {
        "id": "view-in-github",
        "colab_type": "text"
      },
      "source": [
        "<a href=\"https://colab.research.google.com/github/jane-kim-279/080228/blob/master/%EB%AC%B8%EC%84%9C%EB%B6%84%EB%A5%98(Document_Classification).ipynb\" target=\"_parent\"><img src=\"https://colab.research.google.com/assets/colab-badge.svg\" alt=\"Open In Colab\"/></a>"
      ]
    },
    {
      "cell_type": "markdown",
      "source": [
        "## 데이터 준비\n",
        "\n",
        "\n",
        "* 문서 분류에 필요한 데이터는 `scikit-learn`이 제공하는 20개의 주제를 가지는 뉴스그룹 데이터를 사용\n",
        "* 텍스트는 `CounterVectorizer`를 거쳐 DTM으로 변환\n",
        "* DTM은 문서에 등장하는 단어들을 빈도 수 별로 표현한 행렬"
      ],
      "metadata": {
        "id": "63NOl3vJehde"
      }
    },
    {
      "cell_type": "code",
      "execution_count": 1,
      "metadata": {
        "colab": {
          "base_uri": "https://localhost:8080/"
        },
        "id": "QxMwci7tefy0",
        "outputId": "f6259d74-c5a3-4026-89a6-0542ad591a6f"
      },
      "outputs": [
        {
          "output_type": "stream",
          "name": "stdout",
          "text": [
            "(7919, 130107) (7919,) (3395, 130107) (3395,)\n"
          ]
        }
      ],
      "source": [
        "from sklearn.datasets import fetch_20newsgroups\n",
        "from sklearn.feature_extraction.text import CountVectorizer\n",
        "from sklearn.model_selection import train_test_split\n",
        "\n",
        "news = fetch_20newsgroups() # 다운로드\n",
        "\n",
        "# 데이터와 타켓 구분\n",
        "x = news.data\n",
        "y = news.target\n",
        "\n",
        "# x = CountVectorizer로 계산 결과\n",
        "cv = CountVectorizer()\n",
        "x = cv.fit_transform(x)\n",
        "\n",
        "x_train, x_test, y_train, y_test = train_test_split(x, y, test_size=0.3)\n",
        "print(x_train.shape, y_train.shape, x_test.shape, y_test.shape)"
      ]
    },
    {
      "cell_type": "code",
      "source": [
        "print(x_train[0])"
      ],
      "metadata": {
        "colab": {
          "base_uri": "https://localhost:8080/"
        },
        "id": "d3CBDJqQfm5S",
        "outputId": "bbf69561-28f0-401c-e731-5952279612a6"
      },
      "execution_count": 2,
      "outputs": [
        {
          "output_type": "stream",
          "name": "stdout",
          "text": [
            "  (0, 56979)\t1\n",
            "  (0, 50527)\t3\n",
            "  (0, 85354)\t1\n",
            "  (0, 111322)\t1\n",
            "  (0, 90379)\t1\n",
            "  (0, 118983)\t1\n",
            "  (0, 89362)\t1\n",
            "  (0, 76032)\t1\n",
            "  (0, 42876)\t1\n",
            "  (0, 115475)\t2\n",
            "  (0, 66608)\t1\n",
            "  (0, 128402)\t1\n",
            "  (0, 37423)\t3\n",
            "  (0, 29573)\t1\n",
            "  (0, 64186)\t2\n",
            "  (0, 120941)\t1\n",
            "  (0, 99721)\t2\n",
            "  (0, 125271)\t1\n",
            "  (0, 63333)\t1\n",
            "  (0, 106682)\t2\n",
            "  (0, 8266)\t1\n",
            "  (0, 70596)\t2\n",
            "  (0, 32947)\t1\n",
            "  (0, 72306)\t1\n",
            "  (0, 105843)\t1\n",
            "  (0, 29813)\t1\n",
            "  (0, 94048)\t3\n",
            "  (0, 128021)\t1\n",
            "  (0, 83857)\t1\n",
            "  (0, 55254)\t1\n",
            "  (0, 115045)\t1\n",
            "  (0, 94037)\t1\n",
            "  (0, 25564)\t2\n",
            "  (0, 65989)\t1\n",
            "  (0, 6511)\t1\n",
            "  (0, 34128)\t1\n",
            "  (0, 60097)\t1\n",
            "  (0, 32378)\t2\n",
            "  (0, 110639)\t1\n",
            "  (0, 96058)\t1\n",
            "  (0, 60108)\t1\n",
            "  (0, 72595)\t1\n",
            "  (0, 60987)\t2\n",
            "  (0, 58748)\t2\n",
            "  (0, 48522)\t1\n",
            "  (0, 28686)\t1\n",
            "  (0, 70453)\t1\n",
            "  (0, 110681)\t2\n",
            "  (0, 8826)\t1\n",
            "  (0, 11841)\t1\n"
          ]
        }
      ]
    },
    {
      "cell_type": "markdown",
      "source": [
        "## scikit-learn을 이용한 문서 분류"
      ],
      "metadata": {
        "id": "v1GugKr3gUl4"
      }
    },
    {
      "cell_type": "code",
      "source": [
        "from sklearn.metrics import accuracy_score"
      ],
      "metadata": {
        "id": "ZbhT-m47gZGP"
      },
      "execution_count": 3,
      "outputs": []
    },
    {
      "cell_type": "markdown",
      "source": [
        "### 로지스틱 회귀 (Logistic Regression)\n",
        "\n",
        "\n",
        "*   로지스틱 회귀는 가능한 클래스가 2개인 이진 분류를 위한 모델\n",
        "*   사실상 다중 분류에는 적합하지 않음\n",
        "\n"
      ],
      "metadata": {
        "id": "CEFwf6Nigl5i"
      }
    },
    {
      "cell_type": "code",
      "source": [
        "# 좀 오래걸림\n",
        "from sklearn.linear_model import LogisticRegression\n",
        "\n",
        "LR = LogisticRegression()\n",
        "LR.fit(x_train, y_train) # x_train, y_train에 적용. 학습\n",
        "pred = LR.predict(x_test) # 예측\n",
        "acc = accuracy_score(pred, y_test) # 예측값, 테스트값 비교해서 정확도 구함\n",
        "print(acc)"
      ],
      "metadata": {
        "colab": {
          "base_uri": "https://localhost:8080/"
        },
        "id": "BmuPRkJehEyf",
        "outputId": "9ddbe418-d51f-4d1e-a795-4991911bf82f"
      },
      "execution_count": 4,
      "outputs": [
        {
          "output_type": "stream",
          "name": "stdout",
          "text": [
            "0.8709867452135494\n"
          ]
        },
        {
          "output_type": "stream",
          "name": "stderr",
          "text": [
            "/usr/local/lib/python3.7/dist-packages/sklearn/linear_model/_logistic.py:818: ConvergenceWarning: lbfgs failed to converge (status=1):\n",
            "STOP: TOTAL NO. of ITERATIONS REACHED LIMIT.\n",
            "\n",
            "Increase the number of iterations (max_iter) or scale the data as shown in:\n",
            "    https://scikit-learn.org/stable/modules/preprocessing.html\n",
            "Please also refer to the documentation for alternative solver options:\n",
            "    https://scikit-learn.org/stable/modules/linear_model.html#logistic-regression\n",
            "  extra_warning_msg=_LOGISTIC_SOLVER_CONVERGENCE_MSG,\n"
          ]
        }
      ]
    },
    {
      "cell_type": "markdown",
      "source": [
        "## 서포트 벡터 머신 (Support Vector Machines)\n",
        "\n",
        "\n",
        "* 회귀, 분류, 이상치 탐지 등에 사용되는 지도학습 방법\n",
        "* 클래스 사이의 경계에 위치한 데이터 포인트를 서포트 벡터(support vector)라고 함\n",
        "* 각 서포트 벡터가 클래스 사이의 결정 경계를 구분하는데 얼마나 중요한지를 학습\n",
        "* 각 서포트 벡터 사이의 마진이 가장 큰 방향으로 학습 (마진: 데이터와 데이터 간의 거리)\n",
        "* 서포트 벡터까지의 거리와 서포트 벡터의 중요도를 기반으로 예측을 수행"
      ],
      "metadata": {
        "id": "U705cxXsifzr"
      }
    },
    {
      "cell_type": "code",
      "source": [
        "from sklearn import svm\n",
        "\n",
        "SVM = svm.SVC(kernel='linear') # SVC: classification SVR: regression\n",
        "SVM.fit(x_train, y_train)\n",
        "pred = SVM.predict(x_test)\n",
        "acc = accuracy_score(pred, y_test)\n",
        "print(acc)"
      ],
      "metadata": {
        "colab": {
          "base_uri": "https://localhost:8080/"
        },
        "id": "zPJ-6BUWjAwD",
        "outputId": "13db55dc-f087-44bd-833a-75650413970f"
      },
      "execution_count": 5,
      "outputs": [
        {
          "output_type": "stream",
          "name": "stdout",
          "text": [
            "0.8235640648011782\n"
          ]
        }
      ]
    },
    {
      "cell_type": "markdown",
      "source": [
        "## 나이브 베이스 분류기 (Naive Bayes Classification)\n",
        "\n",
        "* 베이즈 정리를 적용한 확률적 분류 알고리즘\n",
        "* 모든 특성들이 독립임을 가정 (naive  가정)\n",
        "* 입력 특성에 따라 3개의 분류기 존재\n",
        "\n",
        "  * 가우시안 나이브 베이즈 분류기\n",
        "  * 베르누이 나이브 베이즈 분류기\n",
        "  * 다항 나이보 베이즈 분류기\n"
      ],
      "metadata": {
        "id": "iAHNorYmtbv4"
      }
    },
    {
      "cell_type": "markdown",
      "source": [
        "### DTM을 이용한 나이브 베이즈"
      ],
      "metadata": {
        "id": "rpefOfGEuEhz"
      }
    },
    {
      "cell_type": "code",
      "source": [
        "from sklearn.naive_bayes import MultinomialNB\n",
        "\n",
        "NB = MultinomialNB()\n",
        "NB.fit(x_train, y_train)\n",
        "pred = NB.predict(x_test)\n",
        "acc = accuracy_score(pred, y_test)\n",
        "print(acc)"
      ],
      "metadata": {
        "id": "kArw05s4uHaY",
        "colab": {
          "base_uri": "https://localhost:8080/"
        },
        "outputId": "8ecc6873-d4ef-4524-ba00-2f0fa34aa149"
      },
      "execution_count": 6,
      "outputs": [
        {
          "output_type": "stream",
          "name": "stdout",
          "text": [
            "0.825920471281296\n"
          ]
        }
      ]
    },
    {
      "cell_type": "markdown",
      "source": [
        "### tf-idf를 이용한 정확도 향상"
      ],
      "metadata": {
        "id": "xq_eJ65Hrz3z"
      }
    },
    {
      "cell_type": "code",
      "source": [
        "from sklearn.feature_extraction.text import TfidfTransformer\n",
        "\n",
        "tfidf = TfidfTransformer()\n",
        "x_train_tf = tfidf.fit_transform(x_train)\n",
        "x_test_tf = tfidf.fit_transform(x_test)\n",
        "\n",
        "NB.fit(x_train_tf, y_train)\n",
        "pred = NB.predict(x_test_tf)\n",
        "acc = accuracy_score(pred, y_test)\n",
        "print(acc)"
      ],
      "metadata": {
        "colab": {
          "base_uri": "https://localhost:8080/"
        },
        "id": "x47XRnxor4WL",
        "outputId": "f5a6c1c4-27eb-4ca4-e0fd-fe37e577fe69"
      },
      "execution_count": 7,
      "outputs": [
        {
          "output_type": "stream",
          "name": "stdout",
          "text": [
            "0.81620029455081\n"
          ]
        }
      ]
    },
    {
      "cell_type": "markdown",
      "source": [
        "## 결정 트리(Decision Tree)\n",
        "* 분류와 회귀에 사용되는 지도 학습 방법\n",
        "* 데이터 특성으로부터 추론된 결정 규칙을 통해 값을 예측\n",
        "* if-then-else 결정 규칙을 통해 데이터 학습\n",
        "* 트리의 깊이가 깊을수록 복잡한 모델"
      ],
      "metadata": {
        "id": "a8VuzAOptCYK"
      }
    },
    {
      "cell_type": "code",
      "source": [
        "# 인덱스만 갖고 규칙을 찾으니 정확도가 낮을 수 밖에..\n",
        "from sklearn.tree import DecisionTreeClassifier\n",
        "\n",
        "DT = DecisionTreeClassifier()\n",
        "DT.fit(x_train, y_train)\n",
        "pred = DT.predict(x_test)\n",
        "acc = accuracy_score(pred, y_test)\n",
        "print(acc)"
      ],
      "metadata": {
        "colab": {
          "base_uri": "https://localhost:8080/"
        },
        "id": "vrvGsYmLtPGE",
        "outputId": "a3ac47d1-d1ea-4f1a-e1f3-06fc1133c7e4"
      },
      "execution_count": 8,
      "outputs": [
        {
          "output_type": "stream",
          "name": "stdout",
          "text": [
            "0.6256259204712813\n"
          ]
        }
      ]
    },
    {
      "cell_type": "markdown",
      "source": [
        "## XGBoost\n",
        "* 트리 기반의 앙상블 기법\n",
        "* 분류에 있어서 다른 알고리즘보다 좋은 예측 성능을 보여줌\n",
        "* XGBoost는 GBM 기반이지만, GBM의 단점인 느린 수행 시간과 과적합 규제 부재 등의 문제를 해결\n",
        "* 병렬 CPU 환경에서 빠르게 학습 가능"
      ],
      "metadata": {
        "id": "O3tVZ3nOtnA7"
      }
    },
    {
      "cell_type": "code",
      "source": [
        "from xgboost import XGBClassifier\n",
        "\n",
        "xgb = XGBClassifier(n_estimators=30, learning_rate=0.05, max_depth=3)\n",
        "xgb.fit(x_train, y_train)\n",
        "pred = xgb.predict(x_test)\n",
        "acc = accuracy_score(pred, y_test)\n",
        "print(acc)"
      ],
      "metadata": {
        "colab": {
          "base_uri": "https://localhost:8080/"
        },
        "id": "STWLtXXmuYBV",
        "outputId": "f0562705-5df9-469e-f56d-642c84b9d66f"
      },
      "execution_count": 10,
      "outputs": [
        {
          "output_type": "stream",
          "name": "stdout",
          "text": [
            "0.7122238586156112\n"
          ]
        }
      ]
    },
    {
      "cell_type": "markdown",
      "source": [
        "## 교차 검증\n",
        "* 일반 검증은 학습 데이터가 테스트 데이터로 사용되지 않음\n",
        "* 교차 검증은 데이터를 n개의 집합으로 나누어 정확도를 계산해 학습 데이터로 사용된 데이터도 테스트 데이터로 사용\n",
        "* 교차 검증을 사용하면 일반 검증보다 모델의 일반화가 잘 되어 있는지 평가 가능\n",
        "* 앞서 구성한 나이브 베이즈 모델을 교차 검증\n"
      ],
      "metadata": {
        "id": "WGKc7I0Au632"
      }
    },
    {
      "cell_type": "code",
      "source": [
        "from sklearn.model_selection import cross_val_score\n",
        "\n",
        "scores = cross_val_score(NB, x, y, cv=5) # 5개의 집합으로 구분\n",
        "print(scores, scores.mean())"
      ],
      "metadata": {
        "colab": {
          "base_uri": "https://localhost:8080/"
        },
        "id": "fGrrM3vxvtUq",
        "outputId": "092ca1a2-81fe-46e5-c96c-ef61c4181bbe"
      },
      "execution_count": 11,
      "outputs": [
        {
          "output_type": "stream",
          "name": "stdout",
          "text": [
            "[0.83870968 0.83826779 0.82368537 0.83031374 0.83642794] 0.833480903927519\n"
          ]
        }
      ]
    },
    {
      "cell_type": "markdown",
      "source": [
        "* 교차 검증을 통해 일반 검증보다 좀 더 일반화된 모델 생성 가능\n",
        "* 교차 검증은 일반 검증에 비해 n번 검증을 해 비용이 더 많이 소요"
      ],
      "metadata": {
        "id": "TbPwfLGVwDIO"
      }
    },
    {
      "cell_type": "markdown",
      "source": [
        "## 정밀도와 재현률\n",
        "* 정밀도(precision)는 양성 클래스(정답)으로 예측한 샘플이 양성 클래스일 확률을 의미\n",
        "* 모델이 얼마나 양성 클래스를 잘 예측하는지를 나타냄\n",
        "* 재현률(recall)은 양성 클래스인 샘플에서 모델이 양성 클래스로 예측한 샘플 비율을 의미하며, 모델이 얼마나 실제 상황을 재현하는지를 나타냄\n",
        "* 정밀도와 재현율의 가중조화평균인 F1-score라는 지표는 정확도에 비해 더 효과적인 모델 분석 지표로 알려져 있음\n",
        "* F1-score를 직접 계산할 수도 있으나, scikit-learn은 이를 편리하게 계산해주는 함수를 제공"
      ],
      "metadata": {
        "id": "HLWG9bmpwOvG"
      }
    },
    {
      "cell_type": "markdown",
      "source": [
        "* 다중 클래스 분류 문제에서 정밀도와 재현률을 계산할 때는 클래스 간의 지표를 어떻게 합칠지 지정 필요\n",
        "\n",
        "  * None - 클래스간 지표를 합치지 말고 그대로 출력\n",
        "  * micro - 정밀도와 재현률이 같음, 이로 인해 f1-score도 정밀도, 재현률과 동일\n",
        "  * macro - 클래스간 지표를 단순 평균한 값\n",
        "  * weighted - 클래스간 지표를 가중 평균한 값"
      ],
      "metadata": {
        "id": "Yjmrmxzmwhtp"
      }
    },
    {
      "cell_type": "code",
      "source": [
        "from sklearn.metrics import precision_score, recall_score, f1_score\n",
        "\n",
        "precision = precision_score(pred, y_test, average='micro')\n",
        "recall = recall_score(pred, y_test, average='micro')\n",
        "f1 = f1_score(pred, y_test, average='micro')\n",
        "\n",
        "print(precision, recall, f1)"
      ],
      "metadata": {
        "colab": {
          "base_uri": "https://localhost:8080/"
        },
        "id": "jcUX7TmrwwM9",
        "outputId": "c24d2942-6729-4d51-a41c-5344b122394e"
      },
      "execution_count": 13,
      "outputs": [
        {
          "output_type": "stream",
          "name": "stdout",
          "text": [
            "0.7122238586156112 0.7122238586156112 0.7122238586156112\n"
          ]
        }
      ]
    },
    {
      "cell_type": "code",
      "source": [
        "precision = precision_score(pred, y_test, average='macro')\n",
        "recall = recall_score(pred, y_test, average='macro')\n",
        "f1 = f1_score(pred, y_test, average='macro')\n",
        "\n",
        "print(precision, recall, f1)"
      ],
      "metadata": {
        "colab": {
          "base_uri": "https://localhost:8080/"
        },
        "id": "wH2lWR5fw89c",
        "outputId": "9449b9bc-45fa-4910-e131-476d9b38b424"
      },
      "execution_count": 14,
      "outputs": [
        {
          "output_type": "stream",
          "name": "stdout",
          "text": [
            "0.7093952142193573 0.7495438639629856 0.720150984170995\n"
          ]
        }
      ]
    },
    {
      "cell_type": "markdown",
      "source": [
        "## 그리드 검색을 이용한 파라미터 최적화\n",
        "* 그리드 검색을 사용하면 분류기에 사용하는 파라미터 최적화 가능\n",
        "* 그리드 검색을 통해 앞서 구성한 나이브 베이즈 모델의 'alpha' 파라미터를 최적화시키는 예제"
      ],
      "metadata": {
        "id": "cyjRxxRqw9w9"
      }
    },
    {
      "cell_type": "markdown",
      "source": [
        "* `estimator`: 사용 모델 객체     \n",
        "* `param_grid`: 사용 객체:지정 파라미터 리스트로 구성된 딕셔너리    \n",
        "* `scoring`: 최적화하고자 하는 성능 지표   \n",
        "* `cv`: 교차 검증 분할 개수  "
      ],
      "metadata": {
        "id": "MiJMkK2fyGnQ"
      }
    },
    {
      "cell_type": "code",
      "source": [
        "from sklearn.model_selection import GridSearchCV\n",
        "\n",
        "GS = GridSearchCV(estimator=NB, param_grid={'alpha' : [0.0006, 0.0008, 0.001]}, scoring='accuracy', cv=10)\n",
        "GS.fit(x, y)\n",
        "\n",
        "print(GS.best_score_)\n",
        "print(GS.best_params_)"
      ],
      "metadata": {
        "colab": {
          "base_uri": "https://localhost:8080/"
        },
        "id": "iauUumBYyKA4",
        "outputId": "b47bea7b-5118-4f2f-b5fc-914ee392defc"
      },
      "execution_count": 18,
      "outputs": [
        {
          "output_type": "stream",
          "name": "stdout",
          "text": [
            "0.8897820965842167\n",
            "{'alpha': 0.001}\n"
          ]
        }
      ]
    }
  ]
}